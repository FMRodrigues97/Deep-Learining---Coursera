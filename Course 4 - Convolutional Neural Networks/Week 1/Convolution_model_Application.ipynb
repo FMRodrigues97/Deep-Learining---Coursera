{
 "cells": [
  {
   "cell_type": "markdown",
   "metadata": {},
   "source": [
    "# Convolutional Neural Networks: Application\n",
    "\n",
    "Welcome to Course 4's second assignment! In this notebook, you will:\n",
    "\n",
    "- Create a mood classifer using the TF Keras Sequential API\n",
    "- Build a ConvNet to identify sign language digits using the TF Keras Functional API\n",
    "\n",
    "**After this assignment you will be able to:**\n",
    "\n",
    "- Build and train a ConvNet in TensorFlow for a __binary__ classification problem\n",
    "- Build and train a ConvNet in TensorFlow for a __multiclass__ classification problem\n",
    "- Explain different use cases for the Sequential and Functional APIs\n",
    "\n",
    "To complete this assignment, you should already be familiar with TensorFlow. If you are not, please refer back to the **TensorFlow Tutorial** of the third week of Course 2 (\"**Improving deep neural networks**\").\n",
    "\n",
    "## Important Note on Submission to the AutoGrader\n",
    "\n",
    "Before submitting your assignment to the AutoGrader, please make sure you are not doing the following:\n",
    "\n",
    "1. You have not added any _extra_ `print` statement(s) in the assignment.\n",
    "2. You have not added any _extra_ code cell(s) in the assignment.\n",
    "3. You have not changed any of the function parameters.\n",
    "4. You are not using any global variables inside your graded exercises. Unless specifically instructed to do so, please refrain from it and use the local variables instead.\n",
    "5. You are not changing the assignment code where it is not required, like creating _extra_ variables.\n",
    "\n",
    "If you do any of the following, you will get something like, `Grader not found` (or similarly unexpected) error upon submitting your assignment. Before asking for help/debugging the errors in your assignment, check for these first. If this is the case, and you don't remember the changes you have made, you can get a fresh copy of the assignment by following these [instructions](https://www.coursera.org/learn/convolutional-neural-networks/supplement/DS4yP/h-ow-to-refresh-your-workspace)."
   ]
  },
  {
   "cell_type": "markdown",
   "metadata": {},
   "source": [
    "## Table of Contents\n",
    "\n",
    "- [1 - Packages](#1)\n",
    "    - [1.1 - Load the Data and Split the Data into Train/Test Sets](#1-1)\n",
    "- [2 - Layers in TF Keras](#2)\n",
    "- [3 - The Sequential API](#3)\n",
    "    - [3.1 - Create the Sequential Model](#3-1)\n",
    "        - [Exercise 1 - happyModel](#ex-1)\n",
    "    - [3.2 - Train and Evaluate the Model](#3-2)\n",
    "- [4 - The Functional API](#4)\n",
    "    - [4.1 - Load the SIGNS Dataset](#4-1)\n",
    "    - [4.2 - Split the Data into Train/Test Sets](#4-2)\n",
    "    - [4.3 - Forward Propagation](#4-3)\n",
    "        - [Exercise 2 - convolutional_model](#ex-2)\n",
    "    - [4.4 - Train the Model](#4-4)\n",
    "- [5 - History Object](#5)\n",
    "- [6 - Bibliography](#6)"
   ]
  },
  {
   "cell_type": "markdown",
   "metadata": {},
   "source": [
    "<a name='1'></a>\n",
    "## 1 - Packages\n",
    "\n",
    "As usual, begin by loading in the packages."
   ]
  },
  {
   "cell_type": "code",
   "execution_count": 1,
   "metadata": {},
   "outputs": [],
   "source": [
    "import math\n",
    "import numpy as np\n",
    "import h5py\n",
    "import matplotlib.pyplot as plt\n",
    "from matplotlib.pyplot import imread\n",
    "import scipy\n",
    "from PIL import Image\n",
    "import pandas as pd\n",
    "import tensorflow as tf\n",
    "import tensorflow.keras.layers as tfl\n",
    "from tensorflow.python.framework import ops\n",
    "from cnn_utils import *\n",
    "from test_utils import summary, comparator\n",
    "\n",
    "%matplotlib inline\n",
    "np.random.seed(1)"
   ]
  },
  {
   "cell_type": "markdown",
   "metadata": {},
   "source": [
    "<a name='1-1'></a>\n",
    "### 1.1 - Load the Data and Split the Data into Train/Test Sets\n",
    "\n",
    "You'll be using the Happy House dataset for this part of the assignment, which contains images of peoples' faces. Your task will be to build a ConvNet that determines whether the people in the images are smiling or not -- because they only get to enter the house if they're smiling!  "
   ]
  },
  {
   "cell_type": "code",
   "execution_count": 2,
   "metadata": {},
   "outputs": [
    {
     "name": "stdout",
     "output_type": "stream",
     "text": [
      "number of training examples = 600\n",
      "number of test examples = 150\n",
      "X_train shape: (600, 64, 64, 3)\n",
      "Y_train shape: (600, 1)\n",
      "X_test shape: (150, 64, 64, 3)\n",
      "Y_test shape: (150, 1)\n"
     ]
    }
   ],
   "source": [
    "X_train_orig, Y_train_orig, X_test_orig, Y_test_orig, classes = load_happy_dataset()\n",
    "\n",
    "# Normalize image vectors\n",
    "X_train = X_train_orig/255.\n",
    "X_test = X_test_orig/255.\n",
    "\n",
    "# Reshape\n",
    "Y_train = Y_train_orig.T\n",
    "Y_test = Y_test_orig.T\n",
    "\n",
    "print (\"number of training examples = \" + str(X_train.shape[0]))\n",
    "print (\"number of test examples = \" + str(X_test.shape[0]))\n",
    "print (\"X_train shape: \" + str(X_train.shape))\n",
    "print (\"Y_train shape: \" + str(Y_train.shape))\n",
    "print (\"X_test shape: \" + str(X_test.shape))\n",
    "print (\"Y_test shape: \" + str(Y_test.shape))"
   ]
  },
  {
   "cell_type": "markdown",
   "metadata": {},
   "source": [
    "You can display the images contained in the dataset. Images are **64x64** pixels in RGB format (3 channels)."
   ]
  },
  {
   "cell_type": "code",
   "execution_count": 4,
   "metadata": {},
   "outputs": [
    {
     "data": {
      "image/png": "[encoded data removed]",
      "text/plain": [
       "<Figure size 432x288 with 1 Axes>"
      ]
     },
     "metadata": {
      "needs_background": "light"
     },
     "output_type": "display_data"
    }
   ],
   "source": [
    "index = 124\n",
    "plt.imshow(X_train_orig[index]) #display sample training image\n",
    "plt.show()"
   ]
  },
  {
   "cell_type": "markdown",
   "metadata": {},
   "source": [
    "<a name='2'></a>\n",
    "## 2 - Layers in TF Keras \n",
    "\n",
    "In the previous assignment, you created layers manually in numpy. In TF Keras, you don't have to write code directly to create layers. Rather, TF Keras has pre-defined layers you can use. \n",
    "\n",
    "When you create a layer in TF Keras, you are creating a function that takes some input and transforms it into an output you can reuse later. Nice and easy! "
   ]
  },
  {
   "cell_type": "markdown",
   "metadata": {},
   "source": [
    "<a name='3'></a>\n",
    "## 3 - The Sequential API\n",
    "\n",
    "In the previous assignment, you built helper functions using `numpy` to understand the mechanics behind convolutional neural networks. Most practical applications of deep learning today are built using programming frameworks, which have many built-in functions you can simply call. Keras is a high-level abstraction built on top of TensorFlow, which allows for even more simplified and optimized model creation and training. \n",
    "\n",
    "For the first part of this assignment, you'll create a model using TF Keras' Sequential API, which allows you to build layer by layer, and is ideal for building models where each layer has **exactly one** input tensor and **one** output tensor. \n",
    "\n",
    "As you'll see, using the Sequential API is simple and straightforward, but is only appropriate for simpler, more straightforward tasks. Later in this notebook you'll spend some time building with a more flexible, powerful alternative: the Functional API. \n",
    " "
   ]
  },
  {
   "cell_type": "markdown",
   "metadata": {},
   "source": [
    "<a name='3-1'></a>\n",
    "### 3.1 - Create the Sequential Model\n",
    "\n",
    "As mentioned earlier, the TensorFlow Keras Sequential API can be used to build simple models with layer operations that proceed in a sequential order. \n",
    "\n",
    "You can also add layers incrementally to a Sequential model with the `.add()` method, or remove them using the `.pop()` method, much like you would in a regular Python list.\n",
    "\n",
    "Actually, you can think of a Sequential model as behaving like a list of layers. Like Python lists, Sequential layers are ordered, and the order in which they are specified matters.  If your model is non-linear or contains layers with multiple inputs or outputs, a Sequential model wouldn't be the right choice!\n",
    "\n",
    "For any layer construction in Keras, you'll need to specify the input shape in advance. This is because in Keras, the shape of the weights is based on the shape of the inputs. The weights are only created when the model first sees some input data. Sequential models can be created by passing a list of layers to the Sequential constructor, like you will do in the next assignment.\n",
    "\n",
    "<a name='ex-1'></a>\n",
    "### Exercise 1 - happyModel\n",
    "\n",
    "Implement the `happyModel` function below to build the following model: `ZEROPAD2D -> CONV2D -> BATCHNORM -> RELU -> MAXPOOL -> FLATTEN -> DENSE`. Take help from [tf.keras.layers](https://www.tensorflow.org/api_docs/python/tf/keras/layers) \n",
    "\n",
    "Also, plug in the following parameters for all the steps:\n",
    "\n",
    " - [ZeroPadding2D](https://www.tensorflow.org/api_docs/python/tf/keras/layers/ZeroPadding2D): padding 3, input shape 64 x 64 x 3\n",
    " - [Conv2D](https://www.tensorflow.org/api_docs/python/tf/keras/layers/Conv2D): Use 32 7x7 filters, stride 1\n",
    " - [BatchNormalization](https://www.tensorflow.org/api_docs/python/tf/keras/layers/BatchNormalization): for axis 3\n",
    " - [ReLU](https://www.tensorflow.org/api_docs/python/tf/keras/layers/ReLU)\n",
    " - [MaxPool2D](https://www.tensorflow.org/api_docs/python/tf/keras/layers/MaxPool2D): Using default parameters\n",
    " - [Flatten](https://www.tensorflow.org/api_docs/python/tf/keras/layers/Flatten) the previous output.\n",
    " - Fully-connected ([Dense](https://www.tensorflow.org/api_docs/python/tf/keras/layers/Dense)) layer: Apply a fully connected layer with 1 neuron and a sigmoid activation. \n",
    " \n",
    " \n",
    " **Hint:**\n",
    " \n",
    " Use **tfl** as shorthand for **tensorflow.keras.layers**"
   ]
  },
  {
   "cell_type": "code",
   "execution_count": 7,
   "metadata": {
    "deletable": false,
    "nbgrader": {
     "cell_type": "code",
     "checksum": "95d28b191f257bdd5b70c7b8952559d5",
     "grade": false,
     "grade_id": "cell-0e56d3fc28b69aec",
     "locked": false,
     "schema_version": 3,
     "solution": true,
     "task": false
    }
   },
   "outputs": [],
   "source": [
    "# GRADED FUNCTION: happyModel\n",
    "\n",
    "def happyModel():\n",
    "    \"\"\"\n",
    "    Implements the forward propagation for the binary classification model:\n",
    "    ZEROPAD2D -> CONV2D -> BATCHNORM -> RELU -> MAXPOOL -> FLATTEN -> DENSE\n",
    "    \n",
    "    Note that for simplicity and grading purposes, you'll hard-code all the values\n",
    "    such as the stride and kernel (filter) sizes. \n",
    "    Normally, functions should take these values as function parameters.\n",
    "    \n",
    "    Arguments:\n",
    "    None\n",
    "\n",
    "    Returns:\n",
    "    model -- TF Keras model (object containing the information for the entire training process) \n",
    "    \"\"\"\n",
    "    model = tf.keras.Sequential([\n",
    "            ## ZeroPadding2D with padding 3, input shape of 64 x 64 x 3\n",
    "            tfl.ZeroPadding2D(padding=(3,3), input_shape = (64, 64, 3)),\n",
    "        \n",
    "            ## Conv2D with 32 7x7 filters and stride of 1\n",
    "            tfl.Conv2D(32, (7, 7), strides = (1,1)),\n",
    "        \n",
    "            ## BatchNormalization for axis 3\n",
    "            tfl.BatchNormalization(axis=3),\n",
    "        \n",
    "            ## ReLU\n",
    "            tfl.ReLU(max_value=None, negative_slope=0.0, threshold=0.0),\n",
    "            \n",
    "            ## Max Pooling 2D with default parameters\n",
    "            tfl.MaxPool2D(pool_size=(2, 2), strides=None, padding='valid', data_format=None),\n",
    "        \n",
    "            ## Flatten layer\n",
    "            tfl.Flatten(data_format=None),\n",
    "        \n",
    "            ## Dense layer with 1 unit for output & 'sigmoid' activation\n",
    "            tfl.Dense(1, activation='sigmoid')\n",
    "\n",
    "        ])\n",
    "    \n",
    "    return model"
   ]
  },
  {
   "cell_type": "code",
   "execution_count": 8,
   "metadata": {
    "deletable": false,
    "editable": false,
    "nbgrader": {
     "cell_type": "code",
     "checksum": "8d3575c950e2e78149be2d05d671c80d",
     "grade": true,
     "grade_id": "cell-e3e1046e5c33d775",
     "locked": true,
     "points": 10,
     "schema_version": 3,
     "solution": false,
     "task": false
    }
   },
   "outputs": [
    {
     "name": "stdout",
     "output_type": "stream",
     "text": [
      "['ZeroPadding2D', (None, 70, 70, 3), 0, ((3, 3), (3, 3))]\n",
      "['Conv2D', (None, 64, 64, 32), 4736, 'valid', 'linear', 'GlorotUniform']\n",
      "['BatchNormalization', (None, 64, 64, 32), 128]\n",
      "['ReLU', (None, 64, 64, 32), 0]\n",
      "['MaxPooling2D', (None, 32, 32, 32), 0, (2, 2), (2, 2), 'valid']\n",
      "['Flatten', (None, 32768), 0]\n",
      "['Dense', (None, 1), 32769, 'sigmoid']\n",
      "\u001b[32mAll tests passed!\u001b[0m\n"
     ]
    }
   ],
   "source": [
    "happy_model = happyModel()\n",
    "# Print a summary for each layer\n",
    "for layer in summary(happy_model):\n",
    "    print(layer)\n",
    "    \n",
    "output = [['ZeroPadding2D', (None, 70, 70, 3), 0, ((3, 3), (3, 3))],\n",
    "            ['Conv2D', (None, 64, 64, 32), 4736, 'valid', 'linear', 'GlorotUniform'],\n",
    "            ['BatchNormalization', (None, 64, 64, 32), 128],\n",
    "            ['ReLU', (None, 64, 64, 32), 0],\n",
    "            ['MaxPooling2D', (None, 32, 32, 32), 0, (2, 2), (2, 2), 'valid'],\n",
    "            ['Flatten', (None, 32768), 0],\n",
    "            ['Dense', (None, 1), 32769, 'sigmoid']]\n",
    "    \n",
    "comparator(summary(happy_model), output)"
   ]
  },
  {
   "cell_type": "markdown",
   "metadata": {},
   "source": [
    "Now that your model is created, you can compile it for training with an optimizer and loss of your choice. When the string `accuracy` is specified as a metric, the type of accuracy used will be automatically converted based on the loss function used. This is one of the many optimizations built into TensorFlow that make your life easier! If you'd like to read more on how the compiler operates, check the docs [here](https://www.tensorflow.org/api_docs/python/tf/keras/Model#compile)."
   ]
  },
  {
   "cell_type": "code",
   "execution_count": 10,
   "metadata": {},
   "outputs": [],
   "source": [
    "happy_model.compile(optimizer='adam',\n",
    "                   loss='binary_crossentropy',\n",
    "                   metrics=['accuracy'])"
   ]
  },
  {
   "cell_type": "markdown",
   "metadata": {},
   "source": [
    "It's time to check your model's parameters with the `.summary()` method. This will display the types of layers you have, the shape of the outputs, and how many parameters are in each layer. "
   ]
  },
  {
   "cell_type": "code",
   "execution_count": 12,
   "metadata": {},
   "outputs": [
    {
     "name": "stdout",
     "output_type": "stream",
     "text": [
      "Model: \"sequential\"\n",
      "_________________________________________________________________\n",
      "Layer (type)                 Output Shape              Param #   \n",
      "=================================================================\n",
      "zero_padding2d (ZeroPadding2 (None, 70, 70, 3)         0         \n",
      "_________________________________________________________________\n",
      "conv2d (Conv2D)              (None, 64, 64, 32)        4736      \n",
      "_________________________________________________________________\n",
      "batch_normalization (BatchNo (None, 64, 64, 32)        128       \n",
      "_________________________________________________________________\n",
      "re_lu (ReLU)                 (None, 64, 64, 32)        0         \n",
      "_________________________________________________________________\n",
      "max_pooling2d (MaxPooling2D) (None, 32, 32, 32)        0         \n",
      "_________________________________________________________________\n",
      "flatten (Flatten)            (None, 32768)             0         \n",
      "_________________________________________________________________\n",
      "dense (Dense)                (None, 1)                 32769     \n",
      "=================================================================\n",
      "Total params: 37,633\n",
      "Trainable params: 37,569\n",
      "Non-trainable params: 64\n",
      "_________________________________________________________________\n"
     ]
    }
   ],
   "source": [
    "happy_model.summary()"
   ]
  },
  {
   "cell_type": "markdown",
   "metadata": {},
   "source": [
    "<a name='3-2'></a>\n",
    "### 3.2 - Train and Evaluate the Model\n",
    "\n",
    "After creating the model, compiling it with your choice of optimizer and loss function, and doing a sanity check on its contents, you are now ready to build! \n",
    "\n",
    "Simply call `.fit()` to train. That's it! No need for mini-batching, saving, or complex backpropagation computations. That's all been done for you, as you're using a TensorFlow dataset with the batches specified already. You do have the option to specify epoch number or minibatch size if you like (for example, in the case of an un-batched dataset)."
   ]
  },
  {
   "cell_type": "code",
   "execution_count": 13,
   "metadata": {},
   "outputs": [
    {
     "name": "stdout",
     "output_type": "stream",
     "text": [
      "Epoch 1/10\n",
      "38/38 [==============================] - 4s 95ms/step - loss: 1.1119 - accuracy: 0.7033\n",
      "Epoch 2/10\n",
      "38/38 [==============================] - 3s 92ms/step - loss: 0.2604 - accuracy: 0.8900\n",
      "Epoch 3/10\n",
      "38/38 [==============================] - 3s 87ms/step - loss: 0.2073 - accuracy: 0.9200\n",
      "Epoch 4/10\n",
      "38/38 [==============================] - 3s 89ms/step - loss: 0.1288 - accuracy: 0.9533\n",
      "Epoch 5/10\n",
      "38/38 [==============================] - 3s 87ms/step - loss: 0.0992 - accuracy: 0.9583\n",
      "Epoch 6/10\n",
      "38/38 [==============================] - 3s 87ms/step - loss: 0.0677 - accuracy: 0.9783\n",
      "Epoch 7/10\n",
      "38/38 [==============================] - 3s 87ms/step - loss: 0.0649 - accuracy: 0.9800\n",
      "Epoch 8/10\n",
      "38/38 [==============================] - 3s 87ms/step - loss: 0.0850 - accuracy: 0.9600\n",
      "Epoch 9/10\n",
      "38/38 [==============================] - 3s 89ms/step - loss: 0.0741 - accuracy: 0.9800\n",
      "Epoch 10/10\n",
      "38/38 [==============================] - 3s 89ms/step - loss: 0.1874 - accuracy: 0.9350\n"
     ]
    },
    {
     "data": {
      "text/plain": [
       "<tensorflow.python.keras.callbacks.History at 0x7facac364d50>"
      ]
     },
     "execution_count": 13,
     "metadata": {},
     "output_type": "execute_result"
    }
   ],
   "source": [
    "happy_model.fit(X_train, Y_train, epochs=10, batch_size=16)"
   ]
  },
  {
   "cell_type": "markdown",
   "metadata": {},
   "source": [
    "After that completes, just use `.evaluate()` to evaluate against your test set. This function will print the value of the loss function and the performance metrics specified during the compilation of the model. In this case, the `binary_crossentropy` and the `accuracy` respectively."
   ]
  },
  {
   "cell_type": "code",
   "execution_count": 14,
   "metadata": {},
   "outputs": [
    {
     "name": "stdout",
     "output_type": "stream",
     "text": [
      "5/5 [==============================] - 0s 33ms/step - loss: 1.6268 - accuracy: 0.6000\n"
     ]
    },
    {
     "data": {
      "text/plain": [
       "[1.6268445253372192, 0.6000000238418579]"
      ]
     },
     "execution_count": 14,
     "metadata": {},
     "output_type": "execute_result"
    }
   ],
   "source": [
    "happy_model.evaluate(X_test, Y_test)"
   ]
  },
  {
   "cell_type": "markdown",
   "metadata": {},
   "source": [
    "Easy, right? But what if you need to build a model with shared layers, branches, or multiple inputs and outputs? This is where Sequential, with its beautifully simple yet limited functionality, won't be able to help you. \n",
    "\n",
    "Next up: Enter the Functional API, your slightly more complex, highly flexible friend.  "
   ]
  },
  {
   "cell_type": "markdown",
   "metadata": {},
   "source": [
    "<a name='4'></a>\n",
    "## 4 - The Functional API"
   ]
  },
  {
   "cell_type": "markdown",
   "metadata": {},
   "source": [
    "Welcome to the second half of the assignment, where you'll use Keras' flexible [Functional API](https://www.tensorflow.org/guide/keras/functional) to build a ConvNet that can differentiate between 6 sign language digits. \n",
    "\n",
    "The Functional API can handle models with non-linear topology, shared layers, as well as layers with multiple inputs or outputs. Imagine that, where the Sequential API requires the model to move in a linear fashion through its layers, the Functional API allows much more flexibility. Where Sequential is a straight line, a Functional model is a graph, where the nodes of the layers can connect in many more ways than one. \n",
    "\n",
    "In the visual example below, the one possible direction of the movement Sequential model is shown in contrast to a skip connection, which is just one of the many ways a Functional model can be constructed. A skip connection, as you might have guessed, skips some layer in the network and feeds the output to a later layer in the network. Don't worry, you'll be spending more time with skip connections very soon! "
   ]
  },
  {
   "cell_type": "markdown",
   "metadata": {},
   "source": [
    "<img src=\"images/seq_vs_func.png\" style=\"width:350px;height:200px;\">"
   ]
  },
  {
   "cell_type": "markdown",
   "metadata": {},
   "source": [
    "<a name='4-1'></a>\n",
    "### 4.1 - Load the SIGNS Dataset\n",
    "\n",
    "As a reminder, the SIGNS dataset is a collection of 6 signs representing numbers from 0 to 5."
   ]
  },
  {
   "cell_type": "code",
   "execution_count": 16,
   "metadata": {},
   "outputs": [],
   "source": [
    "# Loading the data (signs)\n",
    "X_train_orig, Y_train_orig, X_test_orig, Y_test_orig, classes = load_signs_dataset()"
   ]
  },
  {
   "cell_type": "markdown",
   "metadata": {},
   "source": [
    "<img src=\"images/SIGNS.png\" style=\"width:800px;height:300px;\">\n",
    "\n",
    "The next cell will show you an example of a labelled image in the dataset. Feel free to change the value of `index` below and re-run to see different examples. "
   ]
  },
  {
   "cell_type": "code",
   "execution_count": 19,
   "metadata": {},
   "outputs": [
    {
     "name": "stdout",
     "output_type": "stream",
     "text": [
      "y = 4\n"
     ]
    },
    {
     "data": {
      "image/png": "[encoded data removed]",
      "text/plain": [
       "<Figure size 432x288 with 1 Axes>"
      ]
     },
     "metadata": {
      "needs_background": "light"
     },
     "output_type": "display_data"
    }
   ],
   "source": [
    "# Example of an image from the dataset\n",
    "index = 9\n",
    "plt.imshow(X_train_orig[index])\n",
    "print (\"y = \" + str(np.squeeze(Y_train_orig[:, index])))"
   ]
  },
  {
   "cell_type": "markdown",
   "metadata": {},
   "source": [
    "<a name='4-2'></a>\n",
    "### 4.2 - Split the Data into Train/Test Sets\n",
    "\n",
    "In Course 2, you built a fully-connected network for this dataset. But since this is an image dataset, it is more natural to apply a ConvNet to it.\n",
    "\n",
    "To get started, let's examine the shapes of your data. "
   ]
  },
  {
   "cell_type": "code",
   "execution_count": 20,
   "metadata": {},
   "outputs": [
    {
     "name": "stdout",
     "output_type": "stream",
     "text": [
      "number of training examples = 1080\n",
      "number of test examples = 120\n",
      "X_train shape: (1080, 64, 64, 3)\n",
      "Y_train shape: (1080, 6)\n",
      "X_test shape: (120, 64, 64, 3)\n",
      "Y_test shape: (120, 6)\n"
     ]
    }
   ],
   "source": [
    "X_train = X_train_orig/255.\n",
    "X_test = X_test_orig/255.\n",
    "Y_train = convert_to_one_hot(Y_train_orig, 6).T\n",
    "Y_test = convert_to_one_hot(Y_test_orig, 6).T\n",
    "print (\"number of training examples = \" + str(X_train.shape[0]))\n",
    "print (\"number of test examples = \" + str(X_test.shape[0]))\n",
    "print (\"X_train shape: \" + str(X_train.shape))\n",
    "print (\"Y_train shape: \" + str(Y_train.shape))\n",
    "print (\"X_test shape: \" + str(X_test.shape))\n",
    "print (\"Y_test shape: \" + str(Y_test.shape))"
   ]
  },
  {
   "cell_type": "markdown",
   "metadata": {},
   "source": [
    "<a name='4-3'></a>\n",
    "### 4.3 - Forward Propagation\n",
    "\n",
    "In TensorFlow, there are built-in functions that implement the convolution steps for you. By now, you should be familiar with how TensorFlow builds computational graphs. In the [Functional API](https://www.tensorflow.org/guide/keras/functional), you create a graph of layers. This is what allows such great flexibility.\n",
    "\n",
    "However, the following model could also be defined using the Sequential API since the information flow is on a single line. But don't deviate. What we want you to learn is to use the functional API.\n",
    "\n",
    "Begin building your graph of layers by creating an input node that functions as a callable object:\n",
    "\n",
    "- **input_img = tf.keras.Input(shape=input_shape):** \n",
    "\n",
    "Then, create a new node in the graph of layers by calling a layer on the `input_img` object: \n",
    "\n",
    "- **tf.keras.layers.Conv2D(filters= ... , kernel_size= ... , padding='same')(input_img):** Read the full documentation on [Conv2D](https://www.tensorflow.org/api_docs/python/tf/keras/layers/Conv2D).\n",
    "\n",
    "- **tf.keras.layers.MaxPool2D(pool_size=(f, f), strides=(s, s), padding='same'):** `MaxPool2D()` downsamples your input using a window of size (f, f) and strides of size (s, s) to carry out max pooling over each window.  For max pooling, you usually operate on a single example at a time and a single channel at a time. Read the full documentation on [MaxPool2D](https://www.tensorflow.org/api_docs/python/tf/keras/layers/MaxPool2D).\n",
    "\n",
    "- **tf.keras.layers.ReLU():** computes the elementwise ReLU of Z (which can be any shape). You can read the full documentation on [ReLU](https://www.tensorflow.org/api_docs/python/tf/keras/layers/ReLU).\n",
    "\n",
    "- **tf.keras.layers.Flatten()**: given a tensor \"P\", this function takes each training (or test) example in the batch and flattens it into a 1D vector.  \n",
    "\n",
    "    * If a tensor P has the shape (batch_size,h,w,c), it returns a flattened tensor with shape (batch_size, k), where $k=h \\times w \\times c$.  \"k\" equals the product of all the dimension sizes other than the first dimension.\n",
    "    \n",
    "    * For example, given a tensor with dimensions [100, 2, 3, 4], it flattens the tensor to be of shape [100, 24], where 24 = 2 * 3 * 4.  You can read the full documentation on [Flatten](https://www.tensorflow.org/api_docs/python/tf/keras/layers/Flatten).\n",
    "\n",
    "- **tf.keras.layers.Dense(units= ... , activation='softmax')(F):** given the flattened input F, it returns the output computed using a fully connected layer. You can read the full documentation on [Dense](https://www.tensorflow.org/api_docs/python/tf/keras/layers/Dense).\n",
    "\n",
    "In the last function above (`tf.keras.layers.Dense()`), the fully connected layer automatically initializes weights in the graph and keeps on training them as you train the model. Hence, you did not need to initialize those weights when initializing the parameters.\n",
    "\n",
    "Lastly, before creating the model, you'll need to define the output using the last of the function's compositions (in this example, a Dense layer): \n",
    "\n",
    "- **outputs = tf.keras.layers.Dense(units=6, activation='softmax')(F)**\n",
    "\n",
    "\n",
    "#### Window, kernel, filter, pool\n",
    "\n",
    "The words \"kernel\" and \"filter\" are used to refer to the same thing. The word \"filter\" accounts for the amount of \"kernels\" that will be used in a single convolution layer. \"Pool\" is the name of the operation that takes the max or average value of the kernels. \n",
    "\n",
    "This is why the parameter `pool_size` refers to `kernel_size`, and you use `(f,f)` to refer to the filter size. \n",
    "\n",
    "Pool size and kernel size refer to the same thing in different objects - They refer to the shape of the window where the operation takes place. "
   ]
  },
  {
   "cell_type": "markdown",
   "metadata": {},
   "source": [
    "<a name='ex-2'></a>\n",
    "### Exercise 2 - convolutional_model\n",
    "\n",
    "Implement the `convolutional_model` function below to build the following model: `CONV2D -> RELU -> MAXPOOL -> CONV2D -> RELU -> MAXPOOL -> FLATTEN -> DENSE`. Use the functions above! \n",
    "\n",
    "Also, plug in the following parameters for all the steps:\n",
    "\n",
    " - [Conv2D](https://www.tensorflow.org/api_docs/python/tf/keras/layers/Conv2D): Use 8 4 by 4 filters, stride 1, padding is \"SAME\"\n",
    " - [ReLU](https://www.tensorflow.org/api_docs/python/tf/keras/layers/ReLU)\n",
    " - [MaxPool2D](https://www.tensorflow.org/api_docs/python/tf/keras/layers/MaxPool2D): Use an 8 by 8 filter size and an 8 by 8 stride, padding is \"SAME\"\n",
    " - **Conv2D**: Use 16 2 by 2 filters, stride 1, padding is \"SAME\"\n",
    " - **ReLU**\n",
    " - **MaxPool2D**: Use a 4 by 4 filter size and a 4 by 4 stride, padding is \"SAME\"\n",
    " - [Flatten](https://www.tensorflow.org/api_docs/python/tf/keras/layers/Flatten) the previous output.\n",
    " - Fully-connected ([Dense](https://www.tensorflow.org/api_docs/python/tf/keras/layers/Dense)) layer: Apply a fully connected layer with 6 neurons and a softmax activation. "
   ]
  },
  {
   "cell_type": "code",
   "execution_count": 21,
   "metadata": {
    "deletable": false,
    "nbgrader": {
     "cell_type": "code",
     "checksum": "f58643806aa8380c96225fc8b4c5e7aa",
     "grade": false,
     "grade_id": "cell-dac51744a9e03f51",
     "locked": false,
     "schema_version": 3,
     "solution": true,
     "task": false
    }
   },
   "outputs": [],
   "source": [
    "# GRADED FUNCTION: convolutional_model\n",
    "\n",
    "def convolutional_model(input_shape):\n",
    "    \"\"\"\n",
    "    Implements the forward propagation for the model:\n",
    "    CONV2D -> RELU -> MAXPOOL -> CONV2D -> RELU -> MAXPOOL -> FLATTEN -> DENSE\n",
    "    \n",
    "    Note that for simplicity and grading purposes, you'll hard-code some values\n",
    "    such as the stride and kernel (filter) sizes. \n",
    "    Normally, functions should take these values as function parameters.\n",
    "    \n",
    "    Arguments:\n",
    "    input_img -- input dataset, of shape (input_shape)\n",
    "\n",
    "    Returns:\n",
    "    model -- TF Keras model (object containing the information for the entire training process) \n",
    "    \"\"\"\n",
    "\n",
    "    input_img = tf.keras.Input(shape=input_shape)\n",
    "    \n",
    "    ## CONV2D: 8 filters 4x4, stride of 1, padding 'SAME'\n",
    "    Z1 = tfl.Conv2D(filters=8 , kernel_size=(4, 4), strides=(1,1), padding='same')(input_img)\n",
    "    \n",
    "    ## RELU\n",
    "    A1 = tfl.ReLU()(Z1)\n",
    "    \n",
    "    ## MAXPOOL: window 8x8, stride 8, padding 'SAME'\n",
    "    P1 = tfl.MaxPool2D(pool_size=(8, 8), strides=(8, 8), padding='same')(A1)\n",
    "    \n",
    "    ## CONV2D: 16 filters 2x2, stride 1, padding 'SAME'\n",
    "    Z2 = tfl.Conv2D(filters=16 , kernel_size=(2,2), strides=(1,1), padding='same')(P1)\n",
    "    \n",
    "    ## RELU\n",
    "    A2 = tfl.ReLU()(Z2)\n",
    "    \n",
    "    ## MAXPOOL: window 4x4, stride 4, padding 'SAME'\n",
    "    P2 = tfl.MaxPool2D(pool_size=(4,4), strides=(4,4), padding='same')(A2)\n",
    "    \n",
    "    ## FLATTEN\n",
    "    F = tfl.Flatten()(P2)\n",
    "    \n",
    "    ## Dense layer\n",
    "    ## 6 neurons in output layer. Hint: one of the arguments should be \"activation='softmax'\" \n",
    "    outputs = tfl.Dense(units=6 , activation='softmax')(F)\n",
    "\n",
    "    model = tf.keras.Model(inputs=input_img, outputs=outputs)\n",
    "    return model"
   ]
  },
  {
   "cell_type": "code",
   "execution_count": 22,
   "metadata": {
    "deletable": false,
    "editable": false,
    "nbgrader": {
     "cell_type": "code",
     "checksum": "483d626949930a0b0ef20997e7c6ba72",
     "grade": true,
     "grade_id": "cell-45d22e92042174c9",
     "locked": true,
     "points": 10,
     "schema_version": 3,
     "solution": false,
     "task": false
    }
   },
   "outputs": [
    {
     "name": "stdout",
     "output_type": "stream",
     "text": [
      "Model: \"functional_1\"\n",
      "_________________________________________________________________\n",
      "Layer (type)                 Output Shape              Param #   \n",
      "=================================================================\n",
      "input_1 (InputLayer)         [(None, 64, 64, 3)]       0         \n",
      "_________________________________________________________________\n",
      "conv2d_1 (Conv2D)            (None, 64, 64, 8)         392       \n",
      "_________________________________________________________________\n",
      "re_lu_1 (ReLU)               (None, 64, 64, 8)         0         \n",
      "_________________________________________________________________\n",
      "max_pooling2d_1 (MaxPooling2 (None, 8, 8, 8)           0         \n",
      "_________________________________________________________________\n",
      "conv2d_2 (Conv2D)            (None, 8, 8, 16)          528       \n",
      "_________________________________________________________________\n",
      "re_lu_2 (ReLU)               (None, 8, 8, 16)          0         \n",
      "_________________________________________________________________\n",
      "max_pooling2d_2 (MaxPooling2 (None, 2, 2, 16)          0         \n",
      "_________________________________________________________________\n",
      "flatten_1 (Flatten)          (None, 64)                0         \n",
      "_________________________________________________________________\n",
      "dense_1 (Dense)              (None, 6)                 390       \n",
      "=================================================================\n",
      "Total params: 1,310\n",
      "Trainable params: 1,310\n",
      "Non-trainable params: 0\n",
      "_________________________________________________________________\n",
      "\u001b[32mAll tests passed!\u001b[0m\n"
     ]
    }
   ],
   "source": [
    "conv_model = convolutional_model((64, 64, 3))\n",
    "conv_model.compile(optimizer='adam',\n",
    "                  loss='categorical_crossentropy',\n",
    "                  metrics=['accuracy'])\n",
    "conv_model.summary()\n",
    "    \n",
    "output = [['InputLayer', [(None, 64, 64, 3)], 0],\n",
    "        ['Conv2D', (None, 64, 64, 8), 392, 'same', 'linear', 'GlorotUniform'],\n",
    "        ['ReLU', (None, 64, 64, 8), 0],\n",
    "        ['MaxPooling2D', (None, 8, 8, 8), 0, (8, 8), (8, 8), 'same'],\n",
    "        ['Conv2D', (None, 8, 8, 16), 528, 'same', 'linear', 'GlorotUniform'],\n",
    "        ['ReLU', (None, 8, 8, 16), 0],\n",
    "        ['MaxPooling2D', (None, 2, 2, 16), 0, (4, 4), (4, 4), 'same'],\n",
    "        ['Flatten', (None, 64), 0],\n",
    "        ['Dense', (None, 6), 390, 'softmax']]\n",
    "    \n",
    "comparator(summary(conv_model), output)"
   ]
  },
  {
   "cell_type": "markdown",
   "metadata": {},
   "source": [
    "Both the Sequential and Functional APIs return a TF Keras model object. The only difference is how inputs are handled inside the object model! "
   ]
  },
  {
   "cell_type": "markdown",
   "metadata": {},
   "source": [
    "<a name='4-4'></a>\n",
    "### 4.4 - Train the Model"
   ]
  },
  {
   "cell_type": "code",
   "execution_count": 23,
   "metadata": {},
   "outputs": [
    {
     "name": "stdout",
     "output_type": "stream",
     "text": [
      "Epoch 1/100\n",
      "17/17 [==============================] - 2s 107ms/step - loss: 1.8109 - accuracy: 0.1639 - val_loss: 1.7942 - val_accuracy: 0.1250\n",
      "Epoch 2/100\n",
      "17/17 [==============================] - 2s 100ms/step - loss: 1.7903 - accuracy: 0.1556 - val_loss: 1.7874 - val_accuracy: 0.1917\n",
      "Epoch 3/100\n",
      "17/17 [==============================] - 2s 100ms/step - loss: 1.7843 - accuracy: 0.1667 - val_loss: 1.7827 - val_accuracy: 0.2083\n",
      "Epoch 4/100\n",
      "17/17 [==============================] - 2s 95ms/step - loss: 1.7789 - accuracy: 0.2204 - val_loss: 1.7775 - val_accuracy: 0.2833\n",
      "Epoch 5/100\n",
      "17/17 [==============================] - 2s 94ms/step - loss: 1.7723 - accuracy: 0.2593 - val_loss: 1.7711 - val_accuracy: 0.3000\n",
      "Epoch 6/100\n",
      "17/17 [==============================] - 2s 94ms/step - loss: 1.7647 - accuracy: 0.3194 - val_loss: 1.7624 - val_accuracy: 0.3583\n",
      "Epoch 7/100\n",
      "17/17 [==============================] - 2s 95ms/step - loss: 1.7552 - accuracy: 0.3546 - val_loss: 1.7501 - val_accuracy: 0.4000\n",
      "Epoch 8/100\n",
      "17/17 [==============================] - 2s 95ms/step - loss: 1.7427 - accuracy: 0.4231 - val_loss: 1.7380 - val_accuracy: 0.4167\n",
      "Epoch 9/100\n",
      "17/17 [==============================] - 2s 95ms/step - loss: 1.7258 - accuracy: 0.4130 - val_loss: 1.7212 - val_accuracy: 0.4167\n",
      "Epoch 10/100\n",
      "17/17 [==============================] - 2s 94ms/step - loss: 1.7059 - accuracy: 0.4361 - val_loss: 1.6987 - val_accuracy: 0.4750\n",
      "Epoch 11/100\n",
      "17/17 [==============================] - 2s 94ms/step - loss: 1.6796 - accuracy: 0.5000 - val_loss: 1.6714 - val_accuracy: 0.4500\n",
      "Epoch 12/100\n",
      "17/17 [==============================] - 2s 99ms/step - loss: 1.6454 - accuracy: 0.5102 - val_loss: 1.6370 - val_accuracy: 0.4917\n",
      "Epoch 13/100\n",
      "17/17 [==============================] - 2s 95ms/step - loss: 1.6042 - accuracy: 0.5231 - val_loss: 1.5959 - val_accuracy: 0.4833\n",
      "Epoch 14/100\n",
      "17/17 [==============================] - 2s 94ms/step - loss: 1.5544 - accuracy: 0.5583 - val_loss: 1.5452 - val_accuracy: 0.5000\n",
      "Epoch 15/100\n",
      "17/17 [==============================] - 2s 94ms/step - loss: 1.4974 - accuracy: 0.5833 - val_loss: 1.4871 - val_accuracy: 0.5250\n",
      "Epoch 16/100\n",
      "17/17 [==============================] - 2s 99ms/step - loss: 1.4339 - accuracy: 0.5907 - val_loss: 1.4271 - val_accuracy: 0.5667\n",
      "Epoch 17/100\n",
      "17/17 [==============================] - 2s 95ms/step - loss: 1.3703 - accuracy: 0.6056 - val_loss: 1.3677 - val_accuracy: 0.5500\n",
      "Epoch 18/100\n",
      "17/17 [==============================] - 2s 95ms/step - loss: 1.3115 - accuracy: 0.6185 - val_loss: 1.3115 - val_accuracy: 0.5750\n",
      "Epoch 19/100\n",
      "17/17 [==============================] - 2s 95ms/step - loss: 1.2591 - accuracy: 0.6287 - val_loss: 1.2608 - val_accuracy: 0.6000\n",
      "Epoch 20/100\n",
      "17/17 [==============================] - 2s 95ms/step - loss: 1.2100 - accuracy: 0.6324 - val_loss: 1.2147 - val_accuracy: 0.6167\n",
      "Epoch 21/100\n",
      "17/17 [==============================] - 2s 100ms/step - loss: 1.1669 - accuracy: 0.6380 - val_loss: 1.1713 - val_accuracy: 0.6083\n",
      "Epoch 22/100\n",
      "17/17 [==============================] - 2s 100ms/step - loss: 1.1297 - accuracy: 0.6389 - val_loss: 1.1341 - val_accuracy: 0.5917\n",
      "Epoch 23/100\n",
      "17/17 [==============================] - 2s 94ms/step - loss: 1.0940 - accuracy: 0.6537 - val_loss: 1.1013 - val_accuracy: 0.6083\n",
      "Epoch 24/100\n",
      "17/17 [==============================] - 2s 100ms/step - loss: 1.0615 - accuracy: 0.6639 - val_loss: 1.0697 - val_accuracy: 0.6167\n",
      "Epoch 25/100\n",
      "17/17 [==============================] - 2s 99ms/step - loss: 1.0313 - accuracy: 0.6648 - val_loss: 1.0396 - val_accuracy: 0.6417\n",
      "Epoch 26/100\n",
      "17/17 [==============================] - 2s 95ms/step - loss: 1.0048 - accuracy: 0.6778 - val_loss: 1.0132 - val_accuracy: 0.6583\n",
      "Epoch 27/100\n",
      "17/17 [==============================] - 2s 99ms/step - loss: 0.9773 - accuracy: 0.6861 - val_loss: 0.9868 - val_accuracy: 0.6500\n",
      "Epoch 28/100\n",
      "17/17 [==============================] - 2s 95ms/step - loss: 0.9516 - accuracy: 0.6944 - val_loss: 0.9613 - val_accuracy: 0.6417\n",
      "Epoch 29/100\n",
      "17/17 [==============================] - 2s 96ms/step - loss: 0.9281 - accuracy: 0.7019 - val_loss: 0.9379 - val_accuracy: 0.6583\n",
      "Epoch 30/100\n",
      "17/17 [==============================] - 2s 99ms/step - loss: 0.9061 - accuracy: 0.7074 - val_loss: 0.9173 - val_accuracy: 0.6583\n",
      "Epoch 31/100\n",
      "17/17 [==============================] - 2s 95ms/step - loss: 0.8855 - accuracy: 0.7157 - val_loss: 0.8983 - val_accuracy: 0.6583\n",
      "Epoch 32/100\n",
      "17/17 [==============================] - 2s 95ms/step - loss: 0.8661 - accuracy: 0.7241 - val_loss: 0.8813 - val_accuracy: 0.6750\n",
      "Epoch 33/100\n",
      "17/17 [==============================] - 2s 100ms/step - loss: 0.8477 - accuracy: 0.7278 - val_loss: 0.8638 - val_accuracy: 0.6833\n",
      "Epoch 34/100\n",
      "17/17 [==============================] - 2s 99ms/step - loss: 0.8307 - accuracy: 0.7324 - val_loss: 0.8477 - val_accuracy: 0.7000\n",
      "Epoch 35/100\n",
      "17/17 [==============================] - 2s 99ms/step - loss: 0.8148 - accuracy: 0.7407 - val_loss: 0.8319 - val_accuracy: 0.7000\n",
      "Epoch 36/100\n",
      "17/17 [==============================] - 2s 96ms/step - loss: 0.7984 - accuracy: 0.7426 - val_loss: 0.8171 - val_accuracy: 0.6917\n",
      "Epoch 37/100\n",
      "17/17 [==============================] - 2s 95ms/step - loss: 0.7827 - accuracy: 0.7417 - val_loss: 0.8032 - val_accuracy: 0.7167\n",
      "Epoch 38/100\n",
      "17/17 [==============================] - 2s 95ms/step - loss: 0.7698 - accuracy: 0.7491 - val_loss: 0.7906 - val_accuracy: 0.7000\n",
      "Epoch 39/100\n",
      "17/17 [==============================] - 2s 95ms/step - loss: 0.7560 - accuracy: 0.7472 - val_loss: 0.7806 - val_accuracy: 0.7167\n",
      "Epoch 40/100\n",
      "17/17 [==============================] - 2s 100ms/step - loss: 0.7447 - accuracy: 0.7620 - val_loss: 0.7717 - val_accuracy: 0.7167\n",
      "Epoch 41/100\n",
      "17/17 [==============================] - 2s 94ms/step - loss: 0.7330 - accuracy: 0.7630 - val_loss: 0.7592 - val_accuracy: 0.7083\n",
      "Epoch 42/100\n",
      "17/17 [==============================] - 2s 100ms/step - loss: 0.7190 - accuracy: 0.7676 - val_loss: 0.7481 - val_accuracy: 0.7083\n",
      "Epoch 43/100\n",
      "17/17 [==============================] - 2s 100ms/step - loss: 0.7072 - accuracy: 0.7722 - val_loss: 0.7387 - val_accuracy: 0.7167\n",
      "Epoch 44/100\n",
      "17/17 [==============================] - 2s 95ms/step - loss: 0.6959 - accuracy: 0.7787 - val_loss: 0.7284 - val_accuracy: 0.7167\n",
      "Epoch 45/100\n",
      "17/17 [==============================] - 2s 100ms/step - loss: 0.6853 - accuracy: 0.7778 - val_loss: 0.7215 - val_accuracy: 0.7167\n",
      "Epoch 46/100\n",
      "17/17 [==============================] - 2s 100ms/step - loss: 0.6766 - accuracy: 0.7833 - val_loss: 0.7133 - val_accuracy: 0.7167\n",
      "Epoch 47/100\n",
      "17/17 [==============================] - 2s 96ms/step - loss: 0.6659 - accuracy: 0.7926 - val_loss: 0.7040 - val_accuracy: 0.7250\n",
      "Epoch 48/100\n",
      "17/17 [==============================] - 2s 99ms/step - loss: 0.6562 - accuracy: 0.7972 - val_loss: 0.6967 - val_accuracy: 0.7250\n",
      "Epoch 49/100\n",
      "17/17 [==============================] - 2s 95ms/step - loss: 0.6475 - accuracy: 0.7963 - val_loss: 0.6901 - val_accuracy: 0.7250\n",
      "Epoch 50/100\n",
      "17/17 [==============================] - 2s 100ms/step - loss: 0.6384 - accuracy: 0.8019 - val_loss: 0.6825 - val_accuracy: 0.7333\n",
      "Epoch 51/100\n",
      "17/17 [==============================] - 2s 99ms/step - loss: 0.6315 - accuracy: 0.8009 - val_loss: 0.6761 - val_accuracy: 0.7333\n",
      "Epoch 52/100\n",
      "17/17 [==============================] - 2s 95ms/step - loss: 0.6223 - accuracy: 0.8102 - val_loss: 0.6688 - val_accuracy: 0.7417\n",
      "Epoch 53/100\n",
      "17/17 [==============================] - 2s 95ms/step - loss: 0.6144 - accuracy: 0.8111 - val_loss: 0.6623 - val_accuracy: 0.7417\n",
      "Epoch 54/100\n",
      "17/17 [==============================] - 2s 100ms/step - loss: 0.6057 - accuracy: 0.8167 - val_loss: 0.6570 - val_accuracy: 0.7417\n",
      "Epoch 55/100\n",
      "17/17 [==============================] - 2s 100ms/step - loss: 0.5993 - accuracy: 0.8139 - val_loss: 0.6505 - val_accuracy: 0.7417\n",
      "Epoch 56/100\n",
      "17/17 [==============================] - 2s 100ms/step - loss: 0.5915 - accuracy: 0.8185 - val_loss: 0.6434 - val_accuracy: 0.7500\n",
      "Epoch 57/100\n",
      "17/17 [==============================] - 2s 100ms/step - loss: 0.5834 - accuracy: 0.8176 - val_loss: 0.6393 - val_accuracy: 0.7417\n",
      "Epoch 58/100\n",
      "17/17 [==============================] - 2s 95ms/step - loss: 0.5783 - accuracy: 0.8157 - val_loss: 0.6342 - val_accuracy: 0.7500\n",
      "Epoch 59/100\n",
      "17/17 [==============================] - 2s 94ms/step - loss: 0.5709 - accuracy: 0.8204 - val_loss: 0.6275 - val_accuracy: 0.7500\n",
      "Epoch 60/100\n",
      "17/17 [==============================] - 2s 95ms/step - loss: 0.5628 - accuracy: 0.8259 - val_loss: 0.6229 - val_accuracy: 0.7500\n",
      "Epoch 61/100\n",
      "17/17 [==============================] - 2s 94ms/step - loss: 0.5588 - accuracy: 0.8222 - val_loss: 0.6180 - val_accuracy: 0.7500\n",
      "Epoch 62/100\n",
      "17/17 [==============================] - 2s 95ms/step - loss: 0.5517 - accuracy: 0.8296 - val_loss: 0.6116 - val_accuracy: 0.7500\n",
      "Epoch 63/100\n",
      "17/17 [==============================] - 2s 96ms/step - loss: 0.5437 - accuracy: 0.8315 - val_loss: 0.6072 - val_accuracy: 0.7583\n",
      "Epoch 64/100\n",
      "17/17 [==============================] - 2s 95ms/step - loss: 0.5403 - accuracy: 0.8324 - val_loss: 0.6027 - val_accuracy: 0.7583\n",
      "Epoch 65/100\n",
      "17/17 [==============================] - 2s 94ms/step - loss: 0.5329 - accuracy: 0.8361 - val_loss: 0.5972 - val_accuracy: 0.7583\n",
      "Epoch 66/100\n",
      "17/17 [==============================] - 2s 99ms/step - loss: 0.5278 - accuracy: 0.8380 - val_loss: 0.5920 - val_accuracy: 0.7583\n",
      "Epoch 67/100\n",
      "17/17 [==============================] - 2s 100ms/step - loss: 0.5207 - accuracy: 0.8417 - val_loss: 0.5892 - val_accuracy: 0.7583\n",
      "Epoch 68/100\n",
      "17/17 [==============================] - 2s 99ms/step - loss: 0.5171 - accuracy: 0.8426 - val_loss: 0.5841 - val_accuracy: 0.7583\n",
      "Epoch 69/100\n",
      "17/17 [==============================] - 2s 99ms/step - loss: 0.5106 - accuracy: 0.8435 - val_loss: 0.5806 - val_accuracy: 0.7667\n",
      "Epoch 70/100\n",
      "17/17 [==============================] - 2s 96ms/step - loss: 0.5063 - accuracy: 0.8454 - val_loss: 0.5756 - val_accuracy: 0.7583\n",
      "Epoch 71/100\n",
      "17/17 [==============================] - 2s 100ms/step - loss: 0.5003 - accuracy: 0.8444 - val_loss: 0.5718 - val_accuracy: 0.7583\n",
      "Epoch 72/100\n",
      "17/17 [==============================] - 2s 100ms/step - loss: 0.4956 - accuracy: 0.8481 - val_loss: 0.5674 - val_accuracy: 0.7583\n",
      "Epoch 73/100\n",
      "17/17 [==============================] - 2s 94ms/step - loss: 0.4903 - accuracy: 0.8509 - val_loss: 0.5635 - val_accuracy: 0.7583\n",
      "Epoch 74/100\n",
      "17/17 [==============================] - 2s 95ms/step - loss: 0.4852 - accuracy: 0.8509 - val_loss: 0.5601 - val_accuracy: 0.7667\n",
      "Epoch 75/100\n",
      "17/17 [==============================] - 2s 95ms/step - loss: 0.4809 - accuracy: 0.8500 - val_loss: 0.5568 - val_accuracy: 0.7667\n",
      "Epoch 76/100\n",
      "17/17 [==============================] - 2s 95ms/step - loss: 0.4766 - accuracy: 0.8528 - val_loss: 0.5535 - val_accuracy: 0.7750\n",
      "Epoch 77/100\n",
      "17/17 [==============================] - 2s 100ms/step - loss: 0.4718 - accuracy: 0.8556 - val_loss: 0.5499 - val_accuracy: 0.7750\n",
      "Epoch 78/100\n",
      "17/17 [==============================] - 2s 100ms/step - loss: 0.4674 - accuracy: 0.8574 - val_loss: 0.5465 - val_accuracy: 0.7917\n",
      "Epoch 79/100\n",
      "17/17 [==============================] - 2s 99ms/step - loss: 0.4631 - accuracy: 0.8583 - val_loss: 0.5432 - val_accuracy: 0.7917\n",
      "Epoch 80/100\n",
      "17/17 [==============================] - 2s 95ms/step - loss: 0.4590 - accuracy: 0.8593 - val_loss: 0.5398 - val_accuracy: 0.7917\n",
      "Epoch 81/100\n",
      "17/17 [==============================] - 2s 95ms/step - loss: 0.4547 - accuracy: 0.8611 - val_loss: 0.5362 - val_accuracy: 0.7917\n",
      "Epoch 82/100\n",
      "17/17 [==============================] - 2s 95ms/step - loss: 0.4506 - accuracy: 0.8611 - val_loss: 0.5330 - val_accuracy: 0.7917\n",
      "Epoch 83/100\n",
      "17/17 [==============================] - 2s 95ms/step - loss: 0.4467 - accuracy: 0.8620 - val_loss: 0.5299 - val_accuracy: 0.8000\n",
      "Epoch 84/100\n",
      "17/17 [==============================] - 2s 99ms/step - loss: 0.4426 - accuracy: 0.8639 - val_loss: 0.5265 - val_accuracy: 0.8000\n",
      "Epoch 85/100\n",
      "17/17 [==============================] - 2s 100ms/step - loss: 0.4384 - accuracy: 0.8648 - val_loss: 0.5234 - val_accuracy: 0.8000\n",
      "Epoch 86/100\n",
      "17/17 [==============================] - 2s 95ms/step - loss: 0.4349 - accuracy: 0.8657 - val_loss: 0.5207 - val_accuracy: 0.8000\n",
      "Epoch 87/100\n",
      "17/17 [==============================] - 2s 95ms/step - loss: 0.4312 - accuracy: 0.8667 - val_loss: 0.5175 - val_accuracy: 0.8000\n",
      "Epoch 88/100\n",
      "17/17 [==============================] - 2s 100ms/step - loss: 0.4275 - accuracy: 0.8676 - val_loss: 0.5141 - val_accuracy: 0.8083\n",
      "Epoch 89/100\n",
      "17/17 [==============================] - 2s 100ms/step - loss: 0.4228 - accuracy: 0.8667 - val_loss: 0.5118 - val_accuracy: 0.8000\n",
      "Epoch 90/100\n",
      "17/17 [==============================] - 2s 99ms/step - loss: 0.4192 - accuracy: 0.8704 - val_loss: 0.5092 - val_accuracy: 0.8000\n",
      "Epoch 91/100\n",
      "17/17 [==============================] - 2s 100ms/step - loss: 0.4160 - accuracy: 0.8713 - val_loss: 0.5064 - val_accuracy: 0.8000\n",
      "Epoch 92/100\n",
      "17/17 [==============================] - 2s 99ms/step - loss: 0.4125 - accuracy: 0.8713 - val_loss: 0.5033 - val_accuracy: 0.8000\n",
      "Epoch 93/100\n",
      "17/17 [==============================] - 2s 95ms/step - loss: 0.4088 - accuracy: 0.8713 - val_loss: 0.5009 - val_accuracy: 0.8000\n",
      "Epoch 94/100\n",
      "17/17 [==============================] - 2s 96ms/step - loss: 0.4054 - accuracy: 0.8731 - val_loss: 0.4978 - val_accuracy: 0.8000\n",
      "Epoch 95/100\n",
      "17/17 [==============================] - 2s 96ms/step - loss: 0.4021 - accuracy: 0.8731 - val_loss: 0.4954 - val_accuracy: 0.8000\n",
      "Epoch 96/100\n",
      "17/17 [==============================] - 2s 100ms/step - loss: 0.3988 - accuracy: 0.8750 - val_loss: 0.4932 - val_accuracy: 0.8083\n",
      "Epoch 97/100\n",
      "17/17 [==============================] - 2s 100ms/step - loss: 0.3954 - accuracy: 0.8759 - val_loss: 0.4911 - val_accuracy: 0.8083\n",
      "Epoch 98/100\n",
      "17/17 [==============================] - 2s 95ms/step - loss: 0.3926 - accuracy: 0.8769 - val_loss: 0.4887 - val_accuracy: 0.8083\n",
      "Epoch 99/100\n",
      "17/17 [==============================] - 2s 100ms/step - loss: 0.3894 - accuracy: 0.8787 - val_loss: 0.4866 - val_accuracy: 0.8083\n",
      "Epoch 100/100\n",
      "17/17 [==============================] - 2s 100ms/step - loss: 0.3862 - accuracy: 0.8787 - val_loss: 0.4845 - val_accuracy: 0.8083\n"
     ]
    }
   ],
   "source": [
    "train_dataset = tf.data.Dataset.from_tensor_slices((X_train, Y_train)).batch(64)\n",
    "test_dataset = tf.data.Dataset.from_tensor_slices((X_test, Y_test)).batch(64)\n",
    "history = conv_model.fit(train_dataset, epochs=100, validation_data=test_dataset)"
   ]
  },
  {
   "cell_type": "markdown",
   "metadata": {},
   "source": [
    "<a name='5'></a>\n",
    "## 5 - History Object \n",
    "\n",
    "The history object is an output of the `.fit()` operation, and provides a record of all the loss and metric values in memory. It's stored as a dictionary that you can retrieve at `history.history`: "
   ]
  },
  {
   "cell_type": "code",
   "execution_count": 24,
   "metadata": {},
   "outputs": [
    {
     "data": {
      "text/plain": [
       "{'loss': [1.8108943700790405,\n",
       "  1.7902624607086182,\n",
       "  1.7843469381332397,\n",
       "  1.778901219367981,\n",
       "  1.7722572088241577,\n",
       "  1.7646808624267578,\n",
       "  1.7552293539047241,\n",
       "  1.7427036762237549,\n",
       "  1.7257888317108154,\n",
       "  1.7059279680252075,\n",
       "  1.6795556545257568,\n",
       "  1.64535653591156,\n",
       "  1.6042370796203613,\n",
       "  1.5544209480285645,\n",
       "  1.4973669052124023,\n",
       "  1.4338566064834595,\n",
       "  1.370343565940857,\n",
       "  1.3115371465682983,\n",
       "  1.2590500116348267,\n",
       "  1.2100039720535278,\n",
       "  1.1669288873672485,\n",
       "  1.1297292709350586,\n",
       "  1.0940335988998413,\n",
       "  1.0614672899246216,\n",
       "  1.0312575101852417,\n",
       "  1.0047814846038818,\n",
       "  0.9773133397102356,\n",
       "  0.9515668153762817,\n",
       "  0.9280956387519836,\n",
       "  0.906131386756897,\n",
       "  0.8855385184288025,\n",
       "  0.8661441802978516,\n",
       "  0.847740113735199,\n",
       "  0.8307075500488281,\n",
       "  0.8148368000984192,\n",
       "  0.7983657717704773,\n",
       "  0.7827130556106567,\n",
       "  0.7698423266410828,\n",
       "  0.7559602856636047,\n",
       "  0.7446827292442322,\n",
       "  0.7330014109611511,\n",
       "  0.7190176248550415,\n",
       "  0.7072365283966064,\n",
       "  0.695917546749115,\n",
       "  0.6852651834487915,\n",
       "  0.6765798926353455,\n",
       "  0.6658876538276672,\n",
       "  0.6561837196350098,\n",
       "  0.6475169062614441,\n",
       "  0.6383515000343323,\n",
       "  0.631476640701294,\n",
       "  0.6222755908966064,\n",
       "  0.6143746376037598,\n",
       "  0.6056504845619202,\n",
       "  0.599282443523407,\n",
       "  0.5914767384529114,\n",
       "  0.5834328532218933,\n",
       "  0.5783469676971436,\n",
       "  0.5708580613136292,\n",
       "  0.5627771019935608,\n",
       "  0.5588010549545288,\n",
       "  0.5516512393951416,\n",
       "  0.5437266826629639,\n",
       "  0.5402748584747314,\n",
       "  0.5329059958457947,\n",
       "  0.5277585983276367,\n",
       "  0.520680844783783,\n",
       "  0.5171117782592773,\n",
       "  0.5106073617935181,\n",
       "  0.5063442587852478,\n",
       "  0.5003335475921631,\n",
       "  0.49558573961257935,\n",
       "  0.49028468132019043,\n",
       "  0.4852190911769867,\n",
       "  0.4809238612651825,\n",
       "  0.47657883167266846,\n",
       "  0.4718310534954071,\n",
       "  0.4674208462238312,\n",
       "  0.4630504250526428,\n",
       "  0.45901861786842346,\n",
       "  0.4546719789505005,\n",
       "  0.4505969285964966,\n",
       "  0.44674307107925415,\n",
       "  0.44263988733291626,\n",
       "  0.43841731548309326,\n",
       "  0.4348514974117279,\n",
       "  0.43118029832839966,\n",
       "  0.4275406002998352,\n",
       "  0.42275571823120117,\n",
       "  0.4192470610141754,\n",
       "  0.4159669876098633,\n",
       "  0.4125077426433563,\n",
       "  0.4088011384010315,\n",
       "  0.4054042100906372,\n",
       "  0.40205371379852295,\n",
       "  0.39875897765159607,\n",
       "  0.3954467475414276,\n",
       "  0.3925611972808838,\n",
       "  0.38941892981529236,\n",
       "  0.3862004280090332],\n",
       " 'accuracy': [0.16388888657093048,\n",
       "  0.15555556118488312,\n",
       "  0.1666666716337204,\n",
       "  0.2203703671693802,\n",
       "  0.25925925374031067,\n",
       "  0.3194444477558136,\n",
       "  0.35462963581085205,\n",
       "  0.42314815521240234,\n",
       "  0.41296297311782837,\n",
       "  0.43611112236976624,\n",
       "  0.5,\n",
       "  0.510185182094574,\n",
       "  0.5231481194496155,\n",
       "  0.5583333373069763,\n",
       "  0.5833333134651184,\n",
       "  0.5907407402992249,\n",
       "  0.605555534362793,\n",
       "  0.6185185313224792,\n",
       "  0.6287037134170532,\n",
       "  0.6324074268341064,\n",
       "  0.6379629373550415,\n",
       "  0.6388888955116272,\n",
       "  0.6537036895751953,\n",
       "  0.6638888716697693,\n",
       "  0.664814829826355,\n",
       "  0.6777777671813965,\n",
       "  0.6861110925674438,\n",
       "  0.6944444179534912,\n",
       "  0.7018518447875977,\n",
       "  0.7074074149131775,\n",
       "  0.7157407402992249,\n",
       "  0.7240740656852722,\n",
       "  0.7277777791023254,\n",
       "  0.7324073910713196,\n",
       "  0.7407407164573669,\n",
       "  0.7425925731658936,\n",
       "  0.7416666746139526,\n",
       "  0.7490741014480591,\n",
       "  0.7472222447395325,\n",
       "  0.7620370388031006,\n",
       "  0.7629629373550415,\n",
       "  0.7675926089286804,\n",
       "  0.7722222208976746,\n",
       "  0.7787036895751953,\n",
       "  0.7777777910232544,\n",
       "  0.7833333611488342,\n",
       "  0.7925925850868225,\n",
       "  0.7972221970558167,\n",
       "  0.7962962985038757,\n",
       "  0.8018518686294556,\n",
       "  0.8009259104728699,\n",
       "  0.8101851940155029,\n",
       "  0.8111110925674438,\n",
       "  0.8166666626930237,\n",
       "  0.8138889074325562,\n",
       "  0.8185185194015503,\n",
       "  0.8175926208496094,\n",
       "  0.8157407641410828,\n",
       "  0.8203703761100769,\n",
       "  0.8259259462356567,\n",
       "  0.8222222328186035,\n",
       "  0.8296296000480652,\n",
       "  0.8314814567565918,\n",
       "  0.8324074149131775,\n",
       "  0.8361111283302307,\n",
       "  0.8379629850387573,\n",
       "  0.8416666388511658,\n",
       "  0.8425925970077515,\n",
       "  0.8435184955596924,\n",
       "  0.845370352268219,\n",
       "  0.8444444537162781,\n",
       "  0.8481481671333313,\n",
       "  0.8509259223937988,\n",
       "  0.8509259223937988,\n",
       "  0.8500000238418579,\n",
       "  0.8527777791023254,\n",
       "  0.855555534362793,\n",
       "  0.8574073910713196,\n",
       "  0.8583333492279053,\n",
       "  0.8592592477798462,\n",
       "  0.8611111044883728,\n",
       "  0.8611111044883728,\n",
       "  0.8620370626449585,\n",
       "  0.8638888597488403,\n",
       "  0.864814817905426,\n",
       "  0.8657407164573669,\n",
       "  0.8666666746139526,\n",
       "  0.8675925731658936,\n",
       "  0.8666666746139526,\n",
       "  0.8703703880310059,\n",
       "  0.8712962865829468,\n",
       "  0.8712962865829468,\n",
       "  0.8712962865829468,\n",
       "  0.8731481432914734,\n",
       "  0.8731481432914734,\n",
       "  0.875,\n",
       "  0.8759258985519409,\n",
       "  0.8768518567085266,\n",
       "  0.8787037134170532,\n",
       "  0.8787037134170532],\n",
       " 'val_loss': [1.7942034006118774,\n",
       "  1.787423014640808,\n",
       "  1.7827239036560059,\n",
       "  1.7774561643600464,\n",
       "  1.7711255550384521,\n",
       "  1.76242196559906,\n",
       "  1.7500711679458618,\n",
       "  1.7380404472351074,\n",
       "  1.7211534976959229,\n",
       "  1.6987309455871582,\n",
       "  1.6713606119155884,\n",
       "  1.636983036994934,\n",
       "  1.5959209203720093,\n",
       "  1.5452353954315186,\n",
       "  1.487140417098999,\n",
       "  1.4270827770233154,\n",
       "  1.3677152395248413,\n",
       "  1.3115054368972778,\n",
       "  1.2608124017715454,\n",
       "  1.2146530151367188,\n",
       "  1.1713191270828247,\n",
       "  1.134097695350647,\n",
       "  1.1012537479400635,\n",
       "  1.069711446762085,\n",
       "  1.0396344661712646,\n",
       "  1.0131515264511108,\n",
       "  0.9867574572563171,\n",
       "  0.9612744450569153,\n",
       "  0.9378793835639954,\n",
       "  0.9172908663749695,\n",
       "  0.8982916474342346,\n",
       "  0.8812830448150635,\n",
       "  0.8638021349906921,\n",
       "  0.84767746925354,\n",
       "  0.8319277167320251,\n",
       "  0.8170986175537109,\n",
       "  0.8031869530677795,\n",
       "  0.7906480431556702,\n",
       "  0.7805744409561157,\n",
       "  0.7717240452766418,\n",
       "  0.7591593861579895,\n",
       "  0.7480893731117249,\n",
       "  0.73869389295578,\n",
       "  0.7284004092216492,\n",
       "  0.7215226888656616,\n",
       "  0.7132802605628967,\n",
       "  0.7040144801139832,\n",
       "  0.6966786980628967,\n",
       "  0.6900666356086731,\n",
       "  0.6824600100517273,\n",
       "  0.6760863065719604,\n",
       "  0.6688018441200256,\n",
       "  0.6623339056968689,\n",
       "  0.6570379734039307,\n",
       "  0.6505225300788879,\n",
       "  0.643445611000061,\n",
       "  0.6392583250999451,\n",
       "  0.6341859698295593,\n",
       "  0.6275462508201599,\n",
       "  0.6229196190834045,\n",
       "  0.6179612874984741,\n",
       "  0.6116440296173096,\n",
       "  0.6072209477424622,\n",
       "  0.6026531457901001,\n",
       "  0.5971543788909912,\n",
       "  0.5919954776763916,\n",
       "  0.5891947150230408,\n",
       "  0.5841487646102905,\n",
       "  0.580611526966095,\n",
       "  0.5755882263183594,\n",
       "  0.5717552304267883,\n",
       "  0.5673651099205017,\n",
       "  0.5635238885879517,\n",
       "  0.5600588917732239,\n",
       "  0.5568492412567139,\n",
       "  0.5534769296646118,\n",
       "  0.5498974919319153,\n",
       "  0.5464752316474915,\n",
       "  0.5431987643241882,\n",
       "  0.5398127436637878,\n",
       "  0.5362149477005005,\n",
       "  0.5330334305763245,\n",
       "  0.529888391494751,\n",
       "  0.5264778733253479,\n",
       "  0.5234171152114868,\n",
       "  0.5207448601722717,\n",
       "  0.5175049901008606,\n",
       "  0.5140638947486877,\n",
       "  0.5118128657341003,\n",
       "  0.5091623067855835,\n",
       "  0.5063607096672058,\n",
       "  0.5033258199691772,\n",
       "  0.5008834600448608,\n",
       "  0.49780818819999695,\n",
       "  0.4954187273979187,\n",
       "  0.4932415783405304,\n",
       "  0.4911486506462097,\n",
       "  0.48874837160110474,\n",
       "  0.48664960265159607,\n",
       "  0.4844704270362854],\n",
       " 'val_accuracy': [0.125,\n",
       "  0.19166666269302368,\n",
       "  0.2083333283662796,\n",
       "  0.28333333134651184,\n",
       "  0.30000001192092896,\n",
       "  0.3583333194255829,\n",
       "  0.4000000059604645,\n",
       "  0.4166666567325592,\n",
       "  0.4166666567325592,\n",
       "  0.4749999940395355,\n",
       "  0.44999998807907104,\n",
       "  0.49166667461395264,\n",
       "  0.4833333194255829,\n",
       "  0.5,\n",
       "  0.5249999761581421,\n",
       "  0.5666666626930237,\n",
       "  0.550000011920929,\n",
       "  0.574999988079071,\n",
       "  0.6000000238418579,\n",
       "  0.6166666746139526,\n",
       "  0.6083333492279053,\n",
       "  0.5916666388511658,\n",
       "  0.6083333492279053,\n",
       "  0.6166666746139526,\n",
       "  0.6416666507720947,\n",
       "  0.6583333611488342,\n",
       "  0.6499999761581421,\n",
       "  0.6416666507720947,\n",
       "  0.6583333611488342,\n",
       "  0.6583333611488342,\n",
       "  0.6583333611488342,\n",
       "  0.675000011920929,\n",
       "  0.6833333373069763,\n",
       "  0.699999988079071,\n",
       "  0.699999988079071,\n",
       "  0.6916666626930237,\n",
       "  0.7166666388511658,\n",
       "  0.699999988079071,\n",
       "  0.7166666388511658,\n",
       "  0.7166666388511658,\n",
       "  0.7083333134651184,\n",
       "  0.7083333134651184,\n",
       "  0.7166666388511658,\n",
       "  0.7166666388511658,\n",
       "  0.7166666388511658,\n",
       "  0.7166666388511658,\n",
       "  0.7250000238418579,\n",
       "  0.7250000238418579,\n",
       "  0.7250000238418579,\n",
       "  0.7333333492279053,\n",
       "  0.7333333492279053,\n",
       "  0.7416666746139526,\n",
       "  0.7416666746139526,\n",
       "  0.7416666746139526,\n",
       "  0.7416666746139526,\n",
       "  0.75,\n",
       "  0.7416666746139526,\n",
       "  0.75,\n",
       "  0.75,\n",
       "  0.75,\n",
       "  0.75,\n",
       "  0.75,\n",
       "  0.7583333253860474,\n",
       "  0.7583333253860474,\n",
       "  0.7583333253860474,\n",
       "  0.7583333253860474,\n",
       "  0.7583333253860474,\n",
       "  0.7583333253860474,\n",
       "  0.7666666507720947,\n",
       "  0.7583333253860474,\n",
       "  0.7583333253860474,\n",
       "  0.7583333253860474,\n",
       "  0.7583333253860474,\n",
       "  0.7666666507720947,\n",
       "  0.7666666507720947,\n",
       "  0.7749999761581421,\n",
       "  0.7749999761581421,\n",
       "  0.7916666865348816,\n",
       "  0.7916666865348816,\n",
       "  0.7916666865348816,\n",
       "  0.7916666865348816,\n",
       "  0.7916666865348816,\n",
       "  0.800000011920929,\n",
       "  0.800000011920929,\n",
       "  0.800000011920929,\n",
       "  0.800000011920929,\n",
       "  0.800000011920929,\n",
       "  0.8083333373069763,\n",
       "  0.800000011920929,\n",
       "  0.800000011920929,\n",
       "  0.800000011920929,\n",
       "  0.800000011920929,\n",
       "  0.800000011920929,\n",
       "  0.800000011920929,\n",
       "  0.800000011920929,\n",
       "  0.8083333373069763,\n",
       "  0.8083333373069763,\n",
       "  0.8083333373069763,\n",
       "  0.8083333373069763,\n",
       "  0.8083333373069763]}"
      ]
     },
     "execution_count": 24,
     "metadata": {},
     "output_type": "execute_result"
    }
   ],
   "source": [
    "history.history"
   ]
  },
  {
   "cell_type": "markdown",
   "metadata": {},
   "source": [
    "Now visualize the loss over time using `history.history`: "
   ]
  },
  {
   "cell_type": "code",
   "execution_count": 25,
   "metadata": {},
   "outputs": [
    {
     "data": {
      "text/plain": [
       "[Text(0, 0.5, 'Accuracy'), Text(0.5, 0, 'Epoch')]"
      ]
     },
     "execution_count": 25,
     "metadata": {},
     "output_type": "execute_result"
    },
    {
     "data": {
      "image/png": "[encoded data removed]",
      "text/plain": [
       "<Figure size 864x576 with 1 Axes>"
      ]
     },
     "metadata": {
      "needs_background": "light"
     },
     "output_type": "display_data"
    },
    {
     "data": {
      "image/png": "[encoded data removed]",
      "text/plain": [
       "<Figure size 864x576 with 1 Axes>"
      ]
     },
     "metadata": {
      "needs_background": "light"
     },
     "output_type": "display_data"
    }
   ],
   "source": [
    "# The history.history[\"loss\"] entry is a dictionary with as many values as epochs that the\n",
    "# model was trained on. \n",
    "df_loss_acc = pd.DataFrame(history.history)\n",
    "df_loss= df_loss_acc[['loss','val_loss']]\n",
    "df_loss.rename(columns={'loss':'train','val_loss':'validation'},inplace=True)\n",
    "df_acc= df_loss_acc[['accuracy','val_accuracy']]\n",
    "df_acc.rename(columns={'accuracy':'train','val_accuracy':'validation'},inplace=True)\n",
    "df_loss.plot(title='Model loss',figsize=(12,8)).set(xlabel='Epoch',ylabel='Loss')\n",
    "df_acc.plot(title='Model Accuracy',figsize=(12,8)).set(xlabel='Epoch',ylabel='Accuracy')"
   ]
  },
  {
   "cell_type": "markdown",
   "metadata": {},
   "source": [
    "**Congratulations**! You've finished the assignment and built two models: One that recognizes  smiles, and another that recognizes SIGN language with almost 80% accuracy on the test set. In addition to that, you now also understand the applications of two Keras APIs: Sequential and Functional. Nicely done! \n",
    "\n",
    "By now, you know a bit about how the Functional API works and may have glimpsed the possibilities. In your next assignment, you'll really get a feel for its power when you get the opportunity to build a very deep ConvNet, using ResNets! "
   ]
  },
  {
   "cell_type": "markdown",
   "metadata": {},
   "source": [
    "<a name='6'></a>\n",
    "## 6 - Bibliography\n",
    "\n",
    "You're always encouraged to read the official documentation. To that end, you can find the docs for the Sequential and Functional APIs here: \n",
    "\n",
    "https://www.tensorflow.org/guide/keras/sequential_model\n",
    "\n",
    "https://www.tensorflow.org/guide/keras/functional"
   ]
  }
 ],
 "metadata": {
  "coursera": {
   "course_slug": "convolutional-neural-networks",
   "graded_item_id": "bwbJV",
   "launcher_item_id": "0TkXB"
  },
  "kernelspec": {
   "display_name": "Python 3",
   "language": "python",
   "name": "python3"
  },
  "language_info": {
   "codemirror_mode": {
    "name": "ipython",
    "version": 3
   },
   "file_extension": ".py",
   "mimetype": "text/x-python",
   "name": "python",
   "nbconvert_exporter": "python",
   "pygments_lexer": "ipython3",
   "version": "3.7.6"
  }
 },
 "nbformat": 4,
 "nbformat_minor": 2
}
